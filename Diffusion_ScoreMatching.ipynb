{
  "cells": [
    {
      "cell_type": "markdown",
      "metadata": {
        "id": "Soq5u4EmfvOQ"
      },
      "source": [
        "<div style=\"display:block\" direction=rtl align=right><br><br>\n",
        "    <div  style=\"width:100%;margin:100;display:block\"  display=block align=center>\n",
        "        <img width=130 align=right src=\"https://i.ibb.co/yXKQmtZ/logo1.png\" style=\"margin:0;\" />\n",
        "        <img width=170 align=left  src=\"https://i.ibb.co/wLjqFkw/logo2.png\" style=\"margin:0;\" />\n",
        "        <span><br><font size=5>University of Tehran , school of ECE</font></span>\n",
        "        <span><br><font size=3>Deep Generative Models Course</font></span>\n",
        "        <span><br><font size=3>Fall 2022</font></span>\n",
        "\n",
        "</div>"
      ]
    },
    {
      "cell_type": "markdown",
      "metadata": {
        "id": "pQy8lIQliqPz"
      },
      "source": [
        "# Part 1: Score matching"
      ]
    },
    {
      "cell_type": "markdown",
      "metadata": {
        "id": "I8fg91_-U0oa"
      },
      "source": [
        "# 1-1 load dataset\n"
      ]
    },
    {
      "cell_type": "code",
      "execution_count": null,
      "metadata": {
        "colab": {
          "base_uri": "https://localhost:8080/",
          "height": 283
        },
        "id": "T09e9B3yRbkz",
        "outputId": "de8ae3f3-8b52-4a6b-8d9d-22d5f1797f90"
      },
      "outputs": [
        {
          "output_type": "execute_result",
          "data": {
            "text/plain": [
              "[<matplotlib.lines.Line2D at 0x7fc709d4f9a0>]"
            ]
          },
          "metadata": {},
          "execution_count": 4
        },
        {
          "output_type": "display_data",
          "data": {
            "text/plain": [
              "<Figure size 432x288 with 1 Axes>"
            ],
            "image/png": "[encoded data removed]"
          },
          "metadata": {
            "needs_background": "light"
          }
        }
      ],
      "source": [
        "import torch\n",
        "from sklearn.datasets import make_swiss_roll\n",
        "\n",
        "# generate the swiss roll dataset\n",
        "xnp, _ = make_swiss_roll(1000, noise=1.0)\n",
        "xtns = torch.as_tensor(xnp[:, [0, 2]] / 10.0, dtype=torch.float32)\n",
        "dset = torch.utils.data.TensorDataset(xtns)\n",
        "\n",
        "# show the samples\n",
        "import matplotlib.pyplot as plt\n",
        "plt.plot(xtns[:, 0], xtns[:, 1], 'C0.')"
      ]
    },
    {
      "cell_type": "markdown",
      "metadata": {
        "id": "LCE9YKSnVErB"
      },
      "source": [
        "# 1-2 Neural Network for: $\\mathbf{s_\\theta}(\\mathbf{x})$"
      ]
    },
    {
      "cell_type": "code",
      "execution_count": null,
      "metadata": {
        "id": "ptfgXHVaWCOD"
      },
      "outputs": [],
      "source": [
        "# score_network takes input of 2 dimension and returns the output of the same size\n",
        "score_network = torch.nn.Sequential(\n",
        "    torch.nn.Linear(2, 64),\n",
        "    torch.nn.LogSigmoid(),\n",
        "    torch.nn.Linear(64, 64),\n",
        "    torch.nn.LogSigmoid(),\n",
        "    torch.nn.Linear(64, 64),\n",
        "    torch.nn.LogSigmoid(),\n",
        "    torch.nn.Linear(64, 2),\n",
        ")"
      ]
    },
    {
      "cell_type": "markdown",
      "metadata": {
        "id": "PZKbjvXBYJuW"
      },
      "source": [
        "# 1-3 Score Matching\n"
      ]
    },
    {
      "cell_type": "markdown",
      "metadata": {
        "id": "XTdUlT3_WFry"
      },
      "source": [
        "Now let's implement the first and second terms of the loss function below,\n",
        "$$\\begin{equation}\n",
        "\\mathcal{L}(\\theta) = \\mathbb{E}_{\\mathbf{x}\\sim p(\\mathbf{x})}\\left[\\frac{1}{2} \\left\\lVert\\mathbf{s_\\theta}(\\mathbf{x})\\right\\rVert^2 + \\mathrm{tr}\\left(\\nabla_\\mathbf{x} \\mathbf{s_\\theta}(\\mathbf{x})\\right)\\right].\n",
        "\\end{equation}$$\n",
        "To get the Jacobian, we can use the function from ``functorch`` or other methods."
      ]
    },
    {
      "cell_type": "code",
      "execution_count": null,
      "metadata": {
        "id": "LsX4LzuYaPM9",
        "colab": {
          "base_uri": "https://localhost:8080/"
        },
        "outputId": "7d9852cb-4de0-4ee8-91a7-7da5705ec51e"
      },
      "outputs": [
        {
          "output_type": "stream",
          "name": "stdout",
          "text": [
            "Looking in indexes: https://pypi.org/simple, https://us-python.pkg.dev/colab-wheels/public/simple/\n",
            "Collecting functorch\n",
            "  Downloading functorch-1.13.0-py2.py3-none-any.whl (2.1 kB)\n",
            "Requirement already satisfied: torch<1.13.1,>=1.13.0 in /usr/local/lib/python3.8/dist-packages (from functorch) (1.13.0+cu116)\n",
            "Requirement already satisfied: typing-extensions in /usr/local/lib/python3.8/dist-packages (from torch<1.13.1,>=1.13.0->functorch) (4.4.0)\n",
            "Installing collected packages: functorch\n",
            "Successfully installed functorch-1.13.0\n"
          ]
        }
      ],
      "source": [
        "!pip install functorch"
      ]
    },
    {
      "cell_type": "code",
      "execution_count": null,
      "metadata": {
        "id": "UN52ud4wWppV"
      },
      "outputs": [],
      "source": [
        "from functorch import jacrev, vmap\n",
        "\n",
        "\n",
        "def calc_loss(score_network: torch.nn.Module, x: torch.Tensor) -> torch.Tensor:\n",
        "    # x: (batch_size, 2) is the training data\n",
        "    score = score_network(x)  # score: (batch_size, 2)\n",
        "    # first term: half of the squared norm\n",
        "    Term1 = 0.5* torch.square(torch.norm(score,dim=1))\n",
        "    # second term: trace of the Jacobian\n",
        "    jacobian= vmap(jacrev(score_network))(x)\n",
        "    #trace\n",
        "    Term2 =  jacobian.diagonal(offset=0, dim1=-2, dim2=-1).sum(dim=-1)\n",
        "    # return loss = first term + second term\n",
        "    loss = (Term1 + Term2).sum(dim=0) / (len(x))\n",
        "    return loss"
      ]
    },
    {
      "cell_type": "code",
      "source": [
        "calc_loss(score_network,torch.randn(20,2))"
      ],
      "metadata": {
        "colab": {
          "base_uri": "https://localhost:8080/"
        },
        "id": "zNGv_MJBEleM",
        "outputId": "87a2d4bb-0cf3-4a2e-c850-f2a0e025d919"
      },
      "execution_count": null,
      "outputs": [
        {
          "output_type": "execute_result",
          "data": {
            "text/plain": [
              "tensor(-0.0116, grad_fn=<DivBackward0>)"
            ]
          },
          "metadata": {},
          "execution_count": 6
        }
      ]
    },
    {
      "cell_type": "markdown",
      "metadata": {
        "id": "nYF_9ASMYFKV"
      },
      "source": [
        "# 1-4 Training"
      ]
    },
    {
      "cell_type": "markdown",
      "metadata": {
        "id": "hKaV5X1AYUe-"
      },
      "source": [
        "Everything is ready, now we can start the training."
      ]
    },
    {
      "cell_type": "code",
      "execution_count": null,
      "metadata": {
        "colab": {
          "base_uri": "https://localhost:8080/"
        },
        "id": "2gIsgMxnX_7V",
        "outputId": "5d953df3-2e39-45be-a1c3-1cd6a968f154"
      },
      "outputs": [
        {
          "output_type": "stream",
          "name": "stdout",
          "text": [
            "0 (0.12025022506713867s): -2.7608480434417726\n",
            "500 (53.19095015525818s): -27.74733137512207\n",
            "1000 (119.35636568069458s): -38.846453063964844\n",
            "1500 (181.35256814956665s): -46.68425970458984\n",
            "2000 (245.04462885856628s): -53.9395703125\n",
            "2500 (309.5518593788147s): -59.44367971801758\n",
            "3000 (370.2073721885681s): -62.99365270996094\n",
            "3500 (435.0870394706726s): -73.89459704589844\n",
            "4000 (494.50369453430176s): -77.33707992553711\n",
            "4500 (552.8970217704773s): -76.48500344848632\n"
          ]
        }
      ],
      "source": [
        "# start the training loop\n",
        "import time\n",
        "opt = torch.optim.Adam(score_network.parameters(), lr=3e-4)\n",
        "dloader = torch.utils.data.DataLoader(dset, batch_size=32, shuffle=True)\n",
        "t0 = time.time()\n",
        "Loss =torch.zeros(1,5000)\n",
        "for i_epoch in range(5000):\n",
        "    total_loss = 0\n",
        "    for data, in dloader:\n",
        "        opt.zero_grad()\n",
        "\n",
        "\n",
        "        # training step\n",
        "        loss = calc_loss(score_network, data)\n",
        "        loss.backward()\n",
        "        opt.step()\n",
        "        # running stats\n",
        "        total_loss = total_loss + loss.detach().item() * data.shape[0]\n",
        "\n",
        "    # print the training stats\n",
        "    if i_epoch % 500 == 0:\n",
        "        print(f\"{i_epoch} ({time.time() - t0}s): {total_loss / len(dset)}\")\n",
        "\n",
        "    Loss[0][i_epoch]= total_loss/len(dset)\n"
      ]
    },
    {
      "cell_type": "code",
      "source": [
        "# Loss curve of training samples\n",
        "import matplotlib.pyplot as plt\n",
        "\n",
        "epoch = list(range(0,5000))\n",
        "\n",
        "f = plt.figure()\n",
        "f.set_figwidth(7)\n",
        "f.set_figheight(7)\n",
        "\n",
        "plt.plot(epoch,Loss[0].detach().numpy())\n",
        "plt.legend(['Train'])\n",
        "plt.xlabel(\"Epoch\")\n",
        "plt.ylabel(\"Loss\")"
      ],
      "metadata": {
        "colab": {
          "base_uri": "https://localhost:8080/",
          "height": 460
        },
        "id": "12uiwtShFNVz",
        "outputId": "a3a5d148-b96a-42cc-c26f-2ac510534519"
      },
      "execution_count": null,
      "outputs": [
        {
          "output_type": "execute_result",
          "data": {
            "text/plain": [
              "Text(0, 0.5, 'Loss')"
            ]
          },
          "metadata": {},
          "execution_count": 11
        },
        {
          "output_type": "display_data",
          "data": {
            "text/plain": [
              "<Figure size 504x504 with 1 Axes>"
            ],
            "image/png": "[encoded data removed]"
          },
          "metadata": {
            "needs_background": "light"
          }
        }
      ]
    },
    {
      "cell_type": "markdown",
      "metadata": {
        "id": "981_iagZilvD"
      },
      "source": [
        "# 1-5 Generation"
      ]
    },
    {
      "cell_type": "markdown",
      "metadata": {
        "id": "2RxLFiexRetw"
      },
      "source": [
        "Once the neural network is trained, we can generate the samples using Langevin dynamics.\n",
        "\n",
        "$$\\begin{equation}\n",
        "    \\mathbf{x}_{i + 1} = \\mathbf{x}_i + \\varepsilon \\nabla_\\mathbf{x}\\mathrm{log}\\ p(\\mathbf{x}) + \\sqrt{2\\varepsilon} \\mathbf{z}_i\n",
        "\\end{equation}$$\n",
        "\n",
        "where $\\mathbf{z}_i\\sim\\mathcal{N}(\\mathbf{0}, \\mathbf{I})$ is a random number sampled from the normal distribution."
      ]
    },
    {
      "cell_type": "code",
      "source": [
        "def generate_samples(score_net: torch.nn.Module, nsamples: int, eps: float = 0.001, nsteps: int = 1000) -> torch.Tensor:\n",
        "\n",
        "    # generating samples using Langevin dynamics and return samples\n",
        "    N = torch.distributions.Normal(0, 1)\n",
        "    x= torch.randn(nsamples,2)\n",
        "    for t in range(nsteps):\n",
        "      z = N.sample((nsamples,2))\n",
        "      x = x + eps * score_net(x) + (2*eps)**(0.5) * z\n",
        "\n",
        "    samples = x\n",
        "    return samples"
      ],
      "metadata": {
        "id": "1bXMq-7ksbbu"
      },
      "execution_count": null,
      "outputs": []
    },
    {
      "cell_type": "code",
      "source": [
        "samples = generate_samples(score_network, 1000).detach()"
      ],
      "metadata": {
        "id": "85R0yrhgsfjA"
      },
      "execution_count": null,
      "outputs": []
    },
    {
      "cell_type": "code",
      "execution_count": null,
      "metadata": {
        "colab": {
          "base_uri": "https://localhost:8080/",
          "height": 283
        },
        "id": "PQFHHVzPhr4T",
        "outputId": "6d57d621-03ad-45ee-bc1c-07df28263502"
      },
      "outputs": [
        {
          "output_type": "execute_result",
          "data": {
            "text/plain": [
              "[<matplotlib.lines.Line2D at 0x7f5beb234280>]"
            ]
          },
          "metadata": {},
          "execution_count": 14
        },
        {
          "output_type": "display_data",
          "data": {
            "text/plain": [
              "<Figure size 432x288 with 1 Axes>"
            ],
            "image/png": "[encoded data removed]"
          },
          "metadata": {
            "needs_background": "light"
          }
        }
      ],
      "source": [
        "plt.plot(samples[:, 0], samples[:, 1], 'C1.')"
      ]
    },
    {
      "cell_type": "markdown",
      "metadata": {
        "id": "-YUpcwwqiufY"
      },
      "source": [
        "# Part 2: Denoising Score matching"
      ]
    },
    {
      "cell_type": "markdown",
      "metadata": {
        "id": "NWk4Al9DqwfS"
      },
      "source": [
        "# 2-1 Noise conditional Neural Network"
      ]
    },
    {
      "cell_type": "markdown",
      "metadata": {
        "id": "8-6-Z6XCqnHi"
      },
      "source": [
        "Now let’s define the neural network that will learn the score function. This is just a simple multi-layer perceptron with LogSigmoid activation function. In contrast to the previous part, the neural network here takes n+1 inputs and produces n outputs. The additional 1 input is for the noise in $t_i$"
      ]
    },
    {
      "cell_type": "code",
      "execution_count": null,
      "metadata": {
        "id": "Pqtu-X7kquPE"
      },
      "outputs": [],
      "source": [
        "# score_network takes input of 2 + 1 (noise) and returns the output of the same size (2)\n",
        "score_network = torch.nn.Sequential(\n",
        "    torch.nn.Linear(3, 64),\n",
        "    torch.nn.LogSigmoid(),\n",
        "    torch.nn.Linear(64, 64),\n",
        "    torch.nn.LogSigmoid(),\n",
        "    torch.nn.Linear(64, 64),\n",
        "    torch.nn.LogSigmoid(),\n",
        "    torch.nn.Linear(64, 2),\n",
        ")\n"
      ]
    },
    {
      "cell_type": "code",
      "source": [
        "score_network(torch.cat( (torch.randn(5,2), torch.ones(5,1) ) , 1 ))"
      ],
      "metadata": {
        "colab": {
          "base_uri": "https://localhost:8080/"
        },
        "id": "iQsJUXDGjMmm",
        "outputId": "ff04e394-fab7-40cc-9ba1-c2847ee495af"
      },
      "execution_count": null,
      "outputs": [
        {
          "output_type": "execute_result",
          "data": {
            "text/plain": [
              "tensor([[0.6326, 0.1950],\n",
              "        [0.6255, 0.1915],\n",
              "        [0.6559, 0.2119],\n",
              "        [0.6373, 0.1911],\n",
              "        [0.6799, 0.2026]], grad_fn=<AddmmBackward0>)"
            ]
          },
          "metadata": {},
          "execution_count": 6
        }
      ]
    },
    {
      "cell_type": "markdown",
      "metadata": {
        "id": "y8gvC5CSq0zq"
      },
      "source": [
        "# 2-3 Score Matching"
      ]
    },
    {
      "cell_type": "markdown",
      "metadata": {
        "id": "nMToZiyxq9N0"
      },
      "source": [
        "Now let's implement the first and second terms of the loss function below,\n",
        "$$\\begin{equation}\n",
        "\\mathcal{L}(\\theta) = \\frac{1}{L}\\sum_{i=1}^{L}{λ(σ_i)}\\mathbb{E}_{\\mathbf{x}\\sim p(\\mathbf{x}), \\mathbf{\\tilde{x}}\\sim q_{σ_i}(\\mathbf{\\tilde{x}|x})}\\left[\\frac{1}{2} \\left\\lVert\\mathbf{s_\\theta}(\\mathbf{\\tilde{x}, σ_i}) - \\nabla_\\mathbf{\\tilde{x}} \\mathbf{log q_{σ_i}}(\\mathbf{\\tilde{x}|x})\\right\\rVert^2\\right]\n",
        "\\end{equation}$$\n",
        "\n",
        "$$\\begin{equation}\n",
        "=\\frac{1}{L}\\sum_{i=1}^{L}\\mathbb{E}_{\\mathbf{x}\\sim p(\\mathbf{x}), \\mathbf{z}\\sim\\mathcal{N}(\\mathbf{0}, \\mathbf{I})}\\left[\\frac{1}{2} \\left\\lVert\\mathbf{\\sigma_i s_\\theta}(\\mathbf{x+σ_iz, σ_i})+ z\\right\\rVert^2\\right] + const.\n",
        "\\end{equation}$$\n"
      ]
    },
    {
      "cell_type": "code",
      "execution_count": null,
      "metadata": {
        "id": "bo84WqtawjYo"
      },
      "outputs": [],
      "source": [
        "L=1000\n",
        "sigmas = torch.linspace(0.001, 0.04, steps=L)\n",
        "\n",
        "\n",
        "def calc_loss(score_network: torch.nn.Module, x: torch.Tensor) -> torch.Tensor:\n",
        "    # x: (batch_size, 2) is the training data\n",
        "\n",
        "    # sample the time\n",
        "    t=torch.randint(1,L,(len(x),1))\n",
        "\n",
        "    #computing denoising score matching L\n",
        "    z = torch.distributions.Normal(0, 1).sample(x.shape)\n",
        "    x_tild = x + sigmas[t]*z\n",
        "\n",
        "    arg = torch.cat( ( x_tild , sigmas[t] ) , 1)\n",
        "    a = sigmas[t] * score_network( arg ) + z\n",
        "    loss = 0.5* torch.square(torch.norm(a))/len(x)\n",
        "\n",
        "    return loss"
      ]
    },
    {
      "cell_type": "markdown",
      "metadata": {
        "id": "dK07BcIAwtJ6"
      },
      "source": [
        "# 2-4 Training"
      ]
    },
    {
      "cell_type": "markdown",
      "metadata": {
        "id": "J34PmUN8xAh7"
      },
      "source": [
        "Everything’s ready, so we can start the training. It takes about 20 - 25 minutes to complete the training."
      ]
    },
    {
      "cell_type": "code",
      "execution_count": null,
      "metadata": {
        "id": "WF1S7gO2wpam",
        "colab": {
          "base_uri": "https://localhost:8080/"
        },
        "outputId": "c94ab2e0-698f-4e0b-d66f-dbc82e37addf"
      },
      "outputs": [
        {
          "output_type": "stream",
          "name": "stdout",
          "text": [
            "0 (0.7201588153839111s): 1.0117065925598145\n",
            "10000 (128.83313584327698s): 1.0068708972930909\n",
            "20000 (313.3059446811676s): 1.0052996277809143\n",
            "30000 (504.0176033973694s): 0.9949423122406006\n",
            "40000 (677.710607290268s): 0.9980998902320862\n",
            "50000 (846.9566190242767s): 1.007366792678833\n",
            "60000 (1013.1259231567383s): 0.9817939634323121\n",
            "70000 (1180.6887753009796s): 1.0194600734710693\n",
            "80000 (1345.3181438446045s): 0.9239228491783142\n",
            "90000 (1509.3989899158478s): 0.965563687801361\n",
            "100000 (1672.6901593208313s): 0.9972975587844849\n",
            "110000 (1833.2745380401611s): 0.9072104897499085\n",
            "120000 (1992.9031732082367s): 1.0065376615524293\n",
            "130000 (2152.313666820526s): 1.0462466869354248\n",
            "140000 (2316.244733572006s): 0.9538765053749084\n"
          ]
        }
      ],
      "source": [
        "# start the training loop\n",
        "import time\n",
        "opt = torch.optim.Adam(score_network.parameters(), lr=3e-4)\n",
        "dloader = torch.utils.data.DataLoader(dset, batch_size=256, shuffle=True)\n",
        "t0 = time.time()\n",
        "Loss =torch.zeros(1,150000)\n",
        "for i_epoch in range(150000):\n",
        "    total_loss = 0\n",
        "    for data, in dloader:\n",
        "        opt.zero_grad()\n",
        "\n",
        "        # training step\n",
        "        loss = calc_loss(score_network, data)\n",
        "        loss.backward()\n",
        "        opt.step()\n",
        "\n",
        "        # running stats\n",
        "        total_loss = total_loss + loss.detach().item() * data.shape[0]\n",
        "\n",
        "    # print the training stats\n",
        "    if i_epoch % 10000 == 0:\n",
        "        print(f\"{i_epoch} ({time.time() - t0}s): {total_loss / len(dset)}\")\n",
        "\n",
        "    Loss[0][i_epoch]= total_loss/len(dset)"
      ]
    },
    {
      "cell_type": "code",
      "source": [
        "# Loss curve of training samples\n",
        "import matplotlib.pyplot as plt\n",
        "\n",
        "epoch = list(range(0,150000))\n",
        "\n",
        "f = plt.figure()\n",
        "f.set_figwidth(7)\n",
        "f.set_figheight(7)\n",
        "\n",
        "plt.plot(epoch,Loss[0].detach().numpy())\n",
        "plt.legend(['Train'])\n",
        "plt.xlabel(\"Epoch\")\n",
        "plt.ylabel(\"Loss\")"
      ],
      "metadata": {
        "colab": {
          "base_uri": "https://localhost:8080/",
          "height": 460
        },
        "id": "sSYJjh9wGZf8",
        "outputId": "41dc8b62-d406-46a6-d2d7-bca39eb1b341"
      },
      "execution_count": null,
      "outputs": [
        {
          "output_type": "execute_result",
          "data": {
            "text/plain": [
              "Text(0, 0.5, 'Loss')"
            ]
          },
          "metadata": {},
          "execution_count": 9
        },
        {
          "output_type": "display_data",
          "data": {
            "text/plain": [
              "<Figure size 504x504 with 1 Axes>"
            ],
            "image/png": "[encoded data removed]"
          },
          "metadata": {
            "needs_background": "light"
          }
        }
      ]
    },
    {
      "cell_type": "markdown",
      "metadata": {
        "id": "POWBC8SvxZKB"
      },
      "source": [
        "# 2-5 Generation"
      ]
    },
    {
      "cell_type": "markdown",
      "metadata": {
        "id": "H_hQLut3xbO-"
      },
      "source": [
        "Once the neural network is trained, we can generate the samples using Annealed Langevin dynamics.\n",
        "\n",
        "$$\\begin{equation}\n",
        "    \\mathbf{x}_{i + 1} = \\mathbf{x}_i + \\frac{α_i}{2}\\mathbf{s_\\theta}(\\mathbf{x+σ_iz, σ_i}) + \\sqrt{\\alpha_i}\\mathbf{z}_i\n",
        "\\end{equation}$$\n",
        "\n",
        "where $\\mathbf{z}_i\\sim\\mathcal{N}(\\mathbf{0}, \\mathbf{I})$ is a random number sampled from the normal distribution.\n",
        "\n",
        "and $\\mathbf{α_i=ϵ.\\frac{σ_i}{σ_L}}$\n",
        "\n",
        "\n"
      ]
    },
    {
      "cell_type": "code",
      "execution_count": null,
      "metadata": {
        "id": "-hRhdpbzxVhC"
      },
      "outputs": [],
      "source": [
        "L=1000\n",
        "sigmas = torch.linspace(0.001, 0.04, steps=L)\n",
        "\n",
        "def generate_samples(score_network: torch.nn.Module, nsamples: int, eps: float = 0.001, nsteps: int = 1000) -> torch.Tensor:\n",
        "\n",
        "    # generating samples using Annealed Langevin dynamics and return samples\n",
        "    N = torch.distributions.Normal(0, 1)\n",
        "    x= torch.randn(nsamples,2)\n",
        "    for i in range(L):\n",
        "      alpha = eps * (sigmas[i]/sigmas[L-1])**2\n",
        "      for t in range(nsteps):\n",
        "        z = N.sample((nsamples,2))\n",
        "        x = x + (alpha/2) * score_network( torch.cat( ( x , sigmas[i]*torch.ones(len(x),1) ) , 1 ) )  + (alpha)**(0.5) * z\n",
        "\n",
        "    samples = x\n",
        "    return samples"
      ]
    },
    {
      "cell_type": "code",
      "source": [
        "samples = generate_samples(score_network, nsamples=1000,nsteps=2 ).detach()"
      ],
      "metadata": {
        "id": "D7ezu0JktxCr"
      },
      "execution_count": null,
      "outputs": []
    },
    {
      "cell_type": "code",
      "execution_count": null,
      "metadata": {
        "id": "ONCEXIYDLkYX",
        "colab": {
          "base_uri": "https://localhost:8080/",
          "height": 283
        },
        "outputId": "3f6f27ff-c646-492e-8347-0206c42ce43d"
      },
      "outputs": [
        {
          "output_type": "execute_result",
          "data": {
            "text/plain": [
              "[<matplotlib.lines.Line2D at 0x7fc702c85d00>]"
            ]
          },
          "metadata": {},
          "execution_count": 19
        },
        {
          "output_type": "display_data",
          "data": {
            "text/plain": [
              "<Figure size 432x288 with 1 Axes>"
            ],
            "image/png": "[encoded data removed]"
          },
          "metadata": {
            "needs_background": "light"
          }
        }
      ],
      "source": [
        "plt.plot(samples[:, 0], samples[:, 1], 'C1.')"
      ]
    }
  ],
  "metadata": {
    "colab": {
      "provenance": []
    },
    "gpuClass": "standard",
    "kernelspec": {
      "display_name": "Python 3 (ipykernel)",
      "language": "python",
      "name": "python3"
    },
    "language_info": {
      "codemirror_mode": {
        "name": "ipython",
        "version": 3
      },
      "file_extension": ".py",
      "mimetype": "text/x-python",
      "name": "python",
      "nbconvert_exporter": "python",
      "pygments_lexer": "ipython3",
      "version": "3.9.12"
    },
    "vscode": {
      "interpreter": {
        "hash": "916dbcbb3f70747c44a77c7bcd40155683ae19c65e1c03b4aa3499c5328201f1"
      }
    }
  },
  "nbformat": 4,
  "nbformat_minor": 0
}